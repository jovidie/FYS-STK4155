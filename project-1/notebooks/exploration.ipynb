{
 "cells": [
  {
   "cell_type": "code",
   "execution_count": null,
   "metadata": {},
   "outputs": [],
   "source": [
    "import numpy as np\n",
    "import matplotlib.pyplot as plt\n",
    "\n"
   ]
  },
  {
   "cell_type": "code",
   "execution_count": 38,
   "metadata": {},
   "outputs": [],
   "source": [
    "def design_matrix(x, degree):\n",
    "    \"\"\"Create design matrix for polynomial degree n with dimension determined\n",
    "    by the size of input arrays and degree.\n",
    "\n",
    "    Args:\n",
    "        x (np.ndarray): x-values, 1D or 2D array\n",
    "        y (np.ndarray): y-values, 1D or 2D array\n",
    "        degree (int): order of polynomial degree\n",
    "        \n",
    "    Returns:\n",
    "        np.ndarray: array with shape (len(x)*len(y), degree)\n",
    "    \"\"\"\n",
    "    p = degree\n",
    "\n",
    "    if len(x) == 1:\n",
    "        x = x[0]\n",
    "        print(x.shape)\n",
    "        X = np.column_stack((np.ones_like(x), x))\n",
    "        for i in range(2, p+1):\n",
    "            X = np.column_stack((X, x**i))\n",
    "        return X\n",
    "    \n",
    "    elif len(x) == 2:\n",
    "        x, y = x[0], x[1]\n",
    "        if len(x[0].shape) > 1:\n",
    "            x = np.ravel(x)\n",
    "            y = np.ravel(y)\n",
    "\n",
    "        N = len(x)\n",
    "        l = int((p + 1) * (p + 2) / 2)\n",
    "\n",
    "        X = np.zeros((N, l))\n",
    "        X[:, 0] = np.ones(N)\n",
    "\n",
    "        for i in range(1, p + 1):\n",
    "            q = int((i) * (i + 1) / 2)\n",
    "            for k in range(i + 1):\n",
    "                X[:, q + k] = (x**(i - k)) * (y**k)\n",
    "        return X\n",
    "\n",
    "    else:\n",
    "        raise ValueError(f\"{len(x)} is not a valid input dimension, must be 1D or 2D.\")"
   ]
  },
  {
   "cell_type": "code",
   "execution_count": null,
   "metadata": {},
   "outputs": [],
   "source": [
    "x1 = np.random.rand(10)\n",
    "x2 = np.random.rand(10)\n",
    "y = 2.0 + 5*x1**2 + x1*x2 + 0.1*np.random.randn(10)\n",
    "degrees = np.arange(1, 5)\n",
    "lmbda = 0.001\n",
    "\n",
    "mse_history = []\n",
    "r2_history = []\n",
    "\n",
    "for p in degrees:\n",
    "    X = design_matrix([x1, x2, x2], p)\n",
    "    print(f\"p = {p}:\")\n",
    "    print(X)"
   ]
  },
  {
   "cell_type": "code",
   "execution_count": null,
   "metadata": {},
   "outputs": [],
   "source": []
  }
 ],
 "metadata": {
  "kernelspec": {
   "display_name": "fys-stk4155",
   "language": "python",
   "name": "python3"
  },
  "language_info": {
   "codemirror_mode": {
    "name": "ipython",
    "version": 3
   },
   "file_extension": ".py",
   "mimetype": "text/x-python",
   "name": "python",
   "nbconvert_exporter": "python",
   "pygments_lexer": "ipython3",
   "version": "3.12.5"
  }
 },
 "nbformat": 4,
 "nbformat_minor": 2
}
