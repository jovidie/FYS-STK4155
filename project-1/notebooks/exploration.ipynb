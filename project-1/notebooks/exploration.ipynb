{
 "cells": [
  {
   "cell_type": "code",
   "execution_count": null,
   "metadata": {},
   "outputs": [],
   "source": [
    "import numpy as np\n",
    "import matplotlib.pyplot as plt"
   ]
  },
  {
   "cell_type": "code",
   "execution_count": null,
   "metadata": {},
   "outputs": [],
   "source": [
    "# Import stuff from pone, which includes the code written for this project\n",
    "from pone.utils import design_matrix"
   ]
  },
  {
   "cell_type": "code",
   "execution_count": null,
   "metadata": {},
   "outputs": [],
   "source": [
    "x1 = np.random.rand(10)\n",
    "x2 = np.random.rand(10)\n",
    "y = 2.0 + 5*x1**2 + x1*x2 + 0.1*np.random.randn(10)\n",
    "degrees = np.arange(1, 5)\n",
    "lmbda = 0.001\n",
    "\n",
    "mse_history = []\n",
    "r2_history = []\n",
    "\n",
    "for p in degrees:\n",
    "    X = design_matrix([x1, x2, x2], p)\n",
    "    print(f\"p = {p}:\")\n",
    "    print(X)"
   ]
  },
  {
   "cell_type": "code",
   "execution_count": null,
   "metadata": {},
   "outputs": [],
   "source": []
  }
 ],
 "metadata": {
  "kernelspec": {
   "display_name": "fys-stk4155",
   "language": "python",
   "name": "python3"
  },
  "language_info": {
   "codemirror_mode": {
    "name": "ipython",
    "version": 3
   },
   "file_extension": ".py",
   "mimetype": "text/x-python",
   "name": "python",
   "nbconvert_exporter": "python",
   "pygments_lexer": "ipython3",
   "version": "3.12.5"
  }
 },
 "nbformat": 4,
 "nbformat_minor": 2
}
