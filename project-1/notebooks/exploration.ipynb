{
 "cells": [
  {
   "cell_type": "code",
   "execution_count": 2,
   "metadata": {},
   "outputs": [
    {
     "ename": "ModuleNotFoundError",
     "evalue": "No module named 'project1'",
     "output_type": "error",
     "traceback": [
      "\u001b[0;31m---------------------------------------------------------------------------\u001b[0m",
      "\u001b[0;31mModuleNotFoundError\u001b[0m                       Traceback (most recent call last)",
      "Cell \u001b[0;32mIn[2], line 4\u001b[0m\n\u001b[1;32m      1\u001b[0m \u001b[38;5;28;01mimport\u001b[39;00m \u001b[38;5;21;01mnumpy\u001b[39;00m \u001b[38;5;28;01mas\u001b[39;00m \u001b[38;5;21;01mnp\u001b[39;00m\n\u001b[1;32m      2\u001b[0m \u001b[38;5;28;01mimport\u001b[39;00m \u001b[38;5;21;01mmatplotlib\u001b[39;00m\u001b[38;5;21;01m.\u001b[39;00m\u001b[38;5;21;01mpyplot\u001b[39;00m \u001b[38;5;28;01mas\u001b[39;00m \u001b[38;5;21;01mplt\u001b[39;00m\n\u001b[0;32m----> 4\u001b[0m \u001b[38;5;28;01mfrom\u001b[39;00m \u001b[38;5;21;01mproject1\u001b[39;00m \u001b[38;5;28;01mimport\u001b[39;00m design_matrix\n",
      "\u001b[0;31mModuleNotFoundError\u001b[0m: No module named 'project1'"
     ]
    }
   ],
   "source": [
    "import numpy as np\n",
    "import matplotlib.pyplot as plt\n",
    "\n",
    "from project1 import design_matrix"
   ]
  },
  {
   "cell_type": "code",
   "execution_count": 38,
   "metadata": {},
   "outputs": [],
   "source": [
    "def design_matrix(x, degree):\n",
    "    \"\"\"Create design matrix for polynomial degree n with dimension determined\n",
    "    by the size of input arrays and degree.\n",
    "\n",
    "    Args:\n",
    "        x (np.ndarray): x-values, 1D or 2D array\n",
    "        y (np.ndarray): y-values, 1D or 2D array\n",
    "        degree (int): order of polynomial degree\n",
    "        \n",
    "    Returns:\n",
    "        np.ndarray: array with shape (len(x)*len(y), degree)\n",
    "    \"\"\"\n",
    "    p = degree\n",
    "\n",
    "    if len(x) == 1:\n",
    "        x = x[0]\n",
    "        print(x.shape)\n",
    "        X = np.column_stack((np.ones_like(x), x))\n",
    "        for i in range(2, p+1):\n",
    "            X = np.column_stack((X, x**i))\n",
    "        return X\n",
    "    \n",
    "    elif len(x) == 2:\n",
    "        x, y = x[0], x[1]\n",
    "        if len(x[0].shape) > 1:\n",
    "            x = np.ravel(x)\n",
    "            y = np.ravel(y)\n",
    "\n",
    "        N = len(x)\n",
    "        l = int((p + 1) * (p + 2) / 2)\n",
    "\n",
    "        X = np.zeros((N, l))\n",
    "        X[:, 0] = np.ones(N)\n",
    "\n",
    "        for i in range(1, p + 1):\n",
    "            q = int((i) * (i + 1) / 2)\n",
    "            for k in range(i + 1):\n",
    "                X[:, q + k] = (x**(i - k)) * (y**k)\n",
    "        return X\n",
    "\n",
    "    else:\n",
    "        raise ValueError(f\"{len(x)} is not a valid input dimension, must be 1D or 2D.\")"
   ]
  },
  {
   "cell_type": "code",
   "execution_count": 41,
   "metadata": {},
   "outputs": [
    {
     "ename": "ValueError",
     "evalue": "3 is not a valid input dimension, must be 1D or 2D.",
     "output_type": "error",
     "traceback": [
      "\u001b[0;31m---------------------------------------------------------------------------\u001b[0m",
      "\u001b[0;31mValueError\u001b[0m                                Traceback (most recent call last)",
      "Cell \u001b[0;32mIn[41], line 11\u001b[0m\n\u001b[1;32m      8\u001b[0m r2_history \u001b[38;5;241m=\u001b[39m []\n\u001b[1;32m     10\u001b[0m \u001b[38;5;28;01mfor\u001b[39;00m p \u001b[38;5;129;01min\u001b[39;00m degrees:\n\u001b[0;32m---> 11\u001b[0m     X \u001b[38;5;241m=\u001b[39m \u001b[43mdesign_matrix\u001b[49m\u001b[43m(\u001b[49m\u001b[43m[\u001b[49m\u001b[43mx1\u001b[49m\u001b[43m,\u001b[49m\u001b[43m \u001b[49m\u001b[43mx2\u001b[49m\u001b[43m,\u001b[49m\u001b[43m \u001b[49m\u001b[43mx2\u001b[49m\u001b[43m]\u001b[49m\u001b[43m,\u001b[49m\u001b[43m \u001b[49m\u001b[43mp\u001b[49m\u001b[43m)\u001b[49m\n\u001b[1;32m     12\u001b[0m     \u001b[38;5;28mprint\u001b[39m(\u001b[38;5;124mf\u001b[39m\u001b[38;5;124m\"\u001b[39m\u001b[38;5;124mp = \u001b[39m\u001b[38;5;132;01m{\u001b[39;00mp\u001b[38;5;132;01m}\u001b[39;00m\u001b[38;5;124m:\u001b[39m\u001b[38;5;124m\"\u001b[39m)\n\u001b[1;32m     13\u001b[0m     \u001b[38;5;28mprint\u001b[39m(X)\n",
      "Cell \u001b[0;32mIn[38], line 42\u001b[0m, in \u001b[0;36mdesign_matrix\u001b[0;34m(x, degree)\u001b[0m\n\u001b[1;32m     39\u001b[0m     \u001b[38;5;28;01mreturn\u001b[39;00m X\n\u001b[1;32m     41\u001b[0m \u001b[38;5;28;01melse\u001b[39;00m:\n\u001b[0;32m---> 42\u001b[0m     \u001b[38;5;28;01mraise\u001b[39;00m \u001b[38;5;167;01mValueError\u001b[39;00m(\u001b[38;5;124mf\u001b[39m\u001b[38;5;124m\"\u001b[39m\u001b[38;5;132;01m{\u001b[39;00m\u001b[38;5;28mlen\u001b[39m(x)\u001b[38;5;132;01m}\u001b[39;00m\u001b[38;5;124m is not a valid input dimension, must be 1D or 2D.\u001b[39m\u001b[38;5;124m\"\u001b[39m)\n",
      "\u001b[0;31mValueError\u001b[0m: 3 is not a valid input dimension, must be 1D or 2D."
     ]
    }
   ],
   "source": [
    "x1 = np.random.rand(10)\n",
    "x2 = np.random.rand(10)\n",
    "y = 2.0 + 5*x1**2 + x1*x2 + 0.1*np.random.randn(10)\n",
    "degrees = np.arange(1, 5)\n",
    "lmbda = 0.001\n",
    "\n",
    "mse_history = []\n",
    "r2_history = []\n",
    "\n",
    "for p in degrees:\n",
    "    X = design_matrix([x1, x2, x2], p)\n",
    "    print(f\"p = {p}:\")\n",
    "    print(X)"
   ]
  },
  {
   "cell_type": "code",
   "execution_count": null,
   "metadata": {},
   "outputs": [],
   "source": []
  }
 ],
 "metadata": {
  "kernelspec": {
   "display_name": "fys-stk4155",
   "language": "python",
   "name": "python3"
  },
  "language_info": {
   "codemirror_mode": {
    "name": "ipython",
    "version": 3
   },
   "file_extension": ".py",
   "mimetype": "text/x-python",
   "name": "python",
   "nbconvert_exporter": "python",
   "pygments_lexer": "ipython3",
   "version": "3.12.5"
  }
 },
 "nbformat": 4,
 "nbformat_minor": 2
}
